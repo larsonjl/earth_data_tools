{
 "cells": [
  {
   "cell_type": "markdown",
   "metadata": {},
   "source": [
    "# Generating sections from World Ocean Database CTD profiles   with bathymetry\n",
    "In oceanography, it is often advantageous to create 2-D sections from a series of 1-D profile measurements (i.e. temp(depth), salinity(depth), etc.) to understand how ocean properties are changing along a certain path.  \n",
    "\n",
    "This notebook shows how to take in CTD profiles from the World Ocean Database and combine them with GEBCO bathymetry to generate temperature cross sections using 2D linear interpolation.  The methods described here are easily adaptable for generating salinity sections as well.  Various functions used by this program are useful for other purposes and are outlined in seperate notebooks.\n",
    "\n",
    "Before starting:\n",
    "- I have downloaded the profiles of interest from the world ocean database in netcdf format found [here](https://www.nodc.noaa.gov/OC5/SELECT/dbsearch/dbsearch.html).\n",
    "\n",
    "- I have also downloaded the GEBCO bathymetry netcdf file for my location of interest.  This can be found [here](http://www.gebco.net/data_and_products/gridded_bathymetry_data/)."
   ]
  },
  {
   "cell_type": "code",
   "execution_count": 25,
   "metadata": {
    "collapsed": false
   },
   "outputs": [],
   "source": [
    "import numpy as np\n",
    "from   netCDF4 import Dataset\n",
    "import matplotlib.pyplot as plt\n",
    "import scipy.interpolate\n",
    "import pyproj\n",
    "from mpl_toolkits.basemap import Basemap\n",
    "import cmocean\n",
    "%matplotlib inline"
   ]
  },
  {
   "cell_type": "markdown",
   "metadata": {},
   "source": [
    "Assign directories of CTD and bathymetry datasets. List profiles of interest in order along section."
   ]
  },
  {
   "cell_type": "code",
   "execution_count": 32,
   "metadata": {
    "collapsed": false
   },
   "outputs": [],
   "source": [
    "# Directory of CTD profiles\n",
    "data_dir   = '/Projects/antarctica_ctd/ocldb1465919697.6573.CTD/'\n",
    "\n",
    "# List of profiles of interest\n",
    "profile_arr = ['wod_016492406O.nc','wod_016492405O.nc', 'wod_016492404O.nc', 'wod_016492403O.nc', \\\n",
    "               'wod_016492402O.nc', 'wod_016492402O.nc','wod_016492401O.nc', 'wod_016492400O.nc', \\\n",
    "               'wod_016492399O.nc', 'wod_016492398O.nc']\n",
    "\n",
    "# Directory and file for bathymetry file. Load the bathy index information for later use\n",
    "dir_bath  = '/Projects/antarctica_ctd/bathy/'\n",
    "bath_file = 'GEBCO_2014_2D_-83.3333_-81.7949_-48.4615_-56.6667.nc' \n",
    "bath_dat  = Dataset(dir_bath + bath_file)\n",
    "bath_lats = bath_dat['lat'][:]\n",
    "bath_lons = bath_dat['lon'][:]"
   ]
  },
  {
   "cell_type": "markdown",
   "metadata": {},
   "source": [
    "# Before analysis, lets see where the profiles were taken\n",
    "( Here I have chosen profiles going inland towards the Antarctic Peninsula )"
   ]
  },
  {
   "cell_type": "code",
   "execution_count": 13,
   "metadata": {
    "collapsed": false
   },
   "outputs": [],
   "source": [
    "# Pull location from CTD files\n",
    "lats = []; lons = [];\n",
    "for i in range(len(profile_arr)):\n",
    "    data = Dataset(data_dir+profile_arr[i])\n",
    "    lats = np.append(lats, data.geospatial_lat_min)\n",
    "    lons = np.append(lons, data.geospatial_lon_min)"
   ]
  },
  {
   "cell_type": "code",
   "execution_count": 34,
   "metadata": {
    "collapsed": false
   },
   "outputs": [
    {
     "data": {
      "image/png": "[encoded data removed]",
      "text/plain": [
       "<matplotlib.figure.Figure at 0x10ffa7278>"
      ]
     },
     "metadata": {},
     "output_type": "display_data"
    }
   ],
   "source": [
    "plt.figure(figsize=(5,5))\n",
    "lat_max = np.max(lats) + 10; lat_min = np.min(lats) - 10; \n",
    "lon_min = np.min(lons) - 10 + 360; lon_max = np.max(lons) + 10 + 360\n",
    "m = Basemap(projection='cyl',lon_0=210,resolution='l', llcrnrlat=lat_min,\n",
    "            urcrnrlat=lat_max, llcrnrlon=lon_min, urcrnrlon=lon_max)\n",
    "cs = m.scatter(lats, lons, latlon=True, zorder=10); m.fillcontinents(color='0.8', lake_color='0.8');\n",
    "parallels = np.arange(lat_min,lat_max,5);\n",
    "m.drawparallels(parallels,labels=[1,0,0,0],fontsize=10);\n",
    "meridians = np.arange(lon_min,lon_max,10.)\n",
    "m.drawmeridians(meridians,labels=[0,0,0,1],fontsize=10);"
   ]
  },
  {
   "cell_type": "markdown",
   "metadata": {},
   "source": [
    "# I also need to define a few functions used to grab the bathymetry data"
   ]
  },
  {
   "cell_type": "code",
   "execution_count": 8,
   "metadata": {
    "collapsed": true
   },
   "outputs": [],
   "source": [
    "def find_nearest(arr, value):\n",
    "    '''\n",
    "    find_nearest:\n",
    "    Takes in an array and point, returns index of the closest location \n",
    "    in the array to the point\n",
    "\n",
    "    Inputs\n",
    "    -----\n",
    "    arr   = array of values (i.e. latitude)\n",
    "    value = point of interest\n",
    "\n",
    "    Returns\n",
    "    -----\n",
    "    idx = integer index of location \n",
    "\n",
    "    '''\n",
    "    idx = (np.abs(arr-value)).argmin()\n",
    "    return idx\n",
    "\n",
    "def ptsarr(lat1, lon1, lat2, lon2):\n",
    "    '''\n",
    "    ptsarr:\n",
    "    Takes in pair of points, returns latlon points along great circle between them\n",
    "\n",
    "    Input\n",
    "    -----\n",
    "    lat1, lon1, lat2, lon2 = lat/lon location of two points of interest (-90 < lat <90,  -180 < lon < 180)\n",
    "\n",
    "    Returns\n",
    "    -------\n",
    "    lonlats = list of lat/lon pairs\n",
    "\n",
    "    '''\n",
    "    g = pyproj.Geod(ellps='WGS84')\n",
    "    (az12, az21, dist) = g.inv(lon1, lat1, lon2, lat2)\n",
    "    lonlats = g.npts(lon1, lat1, lon2, lat2, 1 + int(dist/1000))\n",
    "    lonlats.insert(0, (lon1, lat1))\n",
    "    lonlats.append((lon2, lat2))\n",
    "    return lonlats, dist/1000\n",
    "    \n",
    "def pts2dist(lat1, lon1, lat2, lon2):\n",
    "    '''\n",
    "    pts2dist:\n",
    "    Similar as above, slightly faster as it only returns distance between two points\n",
    "    ''' \n",
    "    g = pyproj.Geod(ellps='WGS84')\n",
    "    (az12, az21, dist) = g.inv(lon1, lat1, lon2, lat2)\n",
    "    return  dist/1000\n",
    "\n",
    "def pts2elevprofile(lat1, lon1, lat2, lon2):\n",
    "    '''\n",
    "    pts2elevprofile:\n",
    "    Takes two points and returns ocean depth at points between them\n",
    "\n",
    "    Input\n",
    "    -----\n",
    "    lat1, lon1, lat2, lon2 = lat/lon location of two points of interest (-90 < lat <90,  -180 < lon < 180)\n",
    "\n",
    "    Output\n",
    "    -----\n",
    "    1-D array of longitudes, 1D array of latitudes, 1D array of elevations\n",
    "    dist = distance between source and measruemetn \n",
    "    '''\n",
    "    points, dist = ptsarr(lat1, lon1, lat2, lon2)\n",
    "    elev_arr = []\n",
    "    for locs in points:\n",
    "        lon = locs[0]\n",
    "        lat = locs[1]\n",
    "        idx_lat  = find_nearest(bath_lats, lat)\n",
    "        idx_lon  = find_nearest(bath_lons, lon)\n",
    "        elev     = bath_dat['elevation'][idx_lat, idx_lon]\n",
    "        elev_arr = np.append(elev_arr, elev)\n",
    "    points = np.array(points)\n",
    "    dist_arr    = dist / (len(elev_arr)-1) * np.ones(len(elev_arr))\n",
    "    dist_arr[0] = 0\n",
    "\n",
    "    return points[:,0], points[:, 1], elev_arr, dist_arr.cumsum()\n",
    "\n",
    "\n",
    "def find_max_depth(data_dir, profile_arr):\n",
    "\n",
    "    '''\n",
    "    Find max depth from a bunch of ctd profiles.  Useful for \n",
    "    determining max size of grid space\n",
    "\n",
    "    '''\n",
    "    old_max = 0 \n",
    "    for i in range(len(profile_arr)):\n",
    "        data      = Dataset(data_dir+profile_arr[i])\n",
    "        max_depth = data.variables['z'][:].max()\n",
    "        if max_depth > old_max:\n",
    "            old_max = max_depth\n",
    "    return old_max\n"
   ]
  },
  {
   "cell_type": "markdown",
   "metadata": {},
   "source": [
    "## This is the main method for interpolating between profiles onto a regular grid"
   ]
  },
  {
   "cell_type": "code",
   "execution_count": 21,
   "metadata": {
    "collapsed": false
   },
   "outputs": [],
   "source": [
    "def calculate_section(profile_arr):\n",
    "    '''\n",
    "    calculate_section:\n",
    "    Takes array of CTD profiles in order of the section of interest and outputs interpolated\n",
    "    grid for entire cross section as well as bathymetry across the section. Also outputs\n",
    "    the location and depth of the casts along the section (black lines on final plot). \n",
    "\n",
    "    Input\n",
    "    -----\n",
    "    profile_arr = list of strings referencing .nc CTD files\n",
    "\n",
    "    Output\n",
    "    -----\n",
    "    cast_plot_locs = information on cast locations along profile (used to plot cast locations)\n",
    "    interp_data    = interpolated grid {x, y, temp} \n",
    "    bathy_data     = bathymetry data along section {x, z}\n",
    "    '''     \n",
    "    # Initialize variables\n",
    "    max_depth_list   = []\n",
    "    distance_list    = 0\n",
    "    distance_running = 0\n",
    "    dist_running_bathy = np.array([0])\n",
    "    depth_array        = 0\n",
    "    i = 0\n",
    "    \n",
    "    # Calculate maximum depth to use in the interpolation space\n",
    "    max_depth = find_max_depth(data_dir, profile_arr)    \n",
    "    \n",
    "    for i in range (1, len(profile_arr)):\n",
    "        print(\"Calculating between : \",profile_arr[i-1], \" and : \", profile_arr[i])\n",
    "        \n",
    "        # Read in profile data\n",
    "        data_left  = Dataset(data_dir+profile_arr[i-1])\n",
    "        data_right = Dataset(data_dir+profile_arr[i])\n",
    "        if i == 1:\n",
    "            depth_left = data_left.variables['z'][:]\n",
    "            temp_left  = data_left.variables['Temperature' ][:]\n",
    "            lat_left   = data_left.geospatial_lat_min\n",
    "            lon_left   = data_left.geospatial_lon_min\n",
    "        else:\n",
    "            depth_left = depth_right\n",
    "            temp_left  = temp_right\n",
    "            lat_left   = lat_right\n",
    "            lon_left   = lon_right\n",
    "            \n",
    "        depth_right = data_right.variables['z'][:]\n",
    "        temp_right  = data_right.variables['Temperature' ][:]\n",
    "        lat_right   = data_right.geospatial_lat_min\n",
    "        lon_right   = data_right.geospatial_lon_min\n",
    "                \n",
    "        # Now we need to calculate distance between casts in metric units for plotting  \n",
    "        distance = pts2dist(lat_left, lon_left, lat_right, lon_right)\n",
    "        distance_running += distance # Running distance along entire section\n",
    "        distance_list = np.append(distance_list, distance_running) # Array of location of casts in section for plotting\n",
    "    \n",
    "        # Calculates grid of points to be interpolated on between casts\n",
    "        disc_x = 100 # m between interpolated points (distance)\n",
    "        disc_y = 50  # m between interpolated points (depth   )\n",
    "        \n",
    "        grid_x, grid_y = np.meshgrid(np.arange(distance_list[i-1], distance_running + disc_x/1000., disc_x/1000.), np.arange(0, max_depth, disc_y))  \n",
    "        \n",
    "        # Proper locations for full section\n",
    "        x_arr = np.append(distance_list[i-1] * np.ones(len(depth_left)), distance_running * np.ones(len(depth_right)))\n",
    "        y_arr = np.append(depth_left, depth_right)  \n",
    "        temps = np.append(temp_left, temp_right)\n",
    "     \n",
    "        loc_arr = np.zeros((2, len(x_arr)))\n",
    "        loc_arr[0,:] = x_arr\n",
    "        loc_arr[1,:] = y_arr\n",
    "        \n",
    "        # ============== Perform interpolation (linear) =================== #\n",
    "        gridded_dat = scipy.interpolate.griddata(loc_arr.T, temps, (grid_x, grid_y), method='linear')\n",
    "    \n",
    "        if i == 1:\n",
    "            max_depth_list = np.max(depth_left)\n",
    "            max_depth_list = np.append(max_depth_list, np.max(depth_right))\n",
    "            gridout_x = grid_x\n",
    "            gridout_y = grid_y\n",
    "            data_out  = gridded_dat\n",
    "        else:\n",
    "            max_depth_list = np.append(max_depth_list, np.max(depth_right))  \n",
    "            gridout_x = np.append(gridout_x, grid_x,     axis=1)\n",
    "            gridout_y = np.append(gridout_y, grid_y,     axis=1)\n",
    "            data_out  = np.append(data_out, gridded_dat, axis=1)\n",
    "        \n",
    "        \n",
    "        # ================ Get bathymetry data between profile locations ================ #\n",
    "        lat_arr, lon_arr, z_arr, dist_along_line = pts2elevprofile(lat_left, lon_left, lat_right, lon_right)\n",
    "        depth_array = np.append(depth_array, z_arr)\n",
    "        dist_running_bathy = np.append(dist_running_bathy, dist_along_line+dist_running_bathy[-1])\n",
    "   \n",
    "    # Make these neater to send to plotting function \n",
    "    bathy_data = {}\n",
    "    bathy_data['dist' ] = dist_running_bathy\n",
    "    bathy_data['depth'] = depth_array\n",
    "    cast_plot_locs = {}\n",
    "    cast_plot_locs['depth'] = max_depth_list\n",
    "    cast_plot_locs['dist']  = distance_list\n",
    "    interp_data = {}\n",
    "    interp_data['xgrid'] = gridout_x\n",
    "    interp_data['ygrid'] = gridout_y\n",
    "    interp_data['data' ] = data_out\n",
    "    return cast_plot_locs, interp_data, bathy_data"
   ]
  },
  {
   "cell_type": "markdown",
   "metadata": {},
   "source": [
    "## My plotting function which includes bathymetry"
   ]
  },
  {
   "cell_type": "code",
   "execution_count": 30,
   "metadata": {
    "collapsed": false
   },
   "outputs": [],
   "source": [
    "def plot_profile(cast_plot_locs, interp_data, bathy_data):\n",
    "    print(\"## == Generating figure == ##\")\n",
    "    plt.figure(figsize=(14,5))\n",
    "    for i in range(0, len(cast_plot_locs['dist'])):\n",
    "        plt.plot(cast_plot_locs['dist'][i]*np.array([1,1]), \n",
    "                 np.array([0, -cast_plot_locs['depth'][i]]), c='k', zorder=10)\n",
    "        plt.scatter(cast_plot_locs['dist'][i], 0, marker=\"v\", s=30)\n",
    "    \n",
    "    # Determine plot levels\n",
    "    interp_data['data'] = np.ma.masked_invalid(interp_data['data'])\n",
    "    temp_max = np.max(interp_data['data'])\n",
    "    temp_min = np.min(interp_data['data'])\n",
    "    levels = np.arange(temp_min, temp_max+0.1, 0.1)        \n",
    "    cmap = cmocean.cm.temperature\n",
    "    \n",
    "    cs = plt.contourf(interp_data['xgrid'], -1*interp_data['ygrid'], interp_data['data'],\n",
    "                     levels, cmap=cmap)\n",
    "    cs.set_clim(temp_min, temp_max)\n",
    "    plt.xlabel('Distance along transect (km)')\n",
    "    plt.ylabel('Elevation (m)')\n",
    "    plt.colorbar(label='Temp (degC)')\n",
    "    \n",
    "    if bathy_data != \"off\":\n",
    "        # continuous function to allow plotting black fill\n",
    "        fn = scipy.interpolate.interp1d(bathy_data['dist'][1::], bathy_data['depth'][1::])\n",
    "        xx = np.arange(0, np.max(bathy_data['dist']), .1)\n",
    "        bathy_interp = fn(xx)\n",
    "        bathy_interp = np.ma.masked_invalid(bathy_interp)\n",
    "        plt.plot(xx, bathy_interp, c='k')\n",
    "        plt.fill_between(xx, bathy_interp, np.ma.min(bathy_interp)-50, color='k')\n",
    "\n",
    "    plt.xlim([0, np.max(interp_data['xgrid'])])\n",
    "    plt.ylim([np.ma.min(bathy_interp-50), 20])"
   ]
  },
  {
   "cell_type": "markdown",
   "metadata": {},
   "source": [
    "# Run interpolation and plot\n",
    "It is worth noting here that interpolation is only done between each neighboring profiles.  (i.e. for section of profiles A, B, C, D, the interpolation between B and C does not know about profiles A or D).  You still must be wary using this method and remember that the interpolation may lead to features that are not necessarily physical but are a good guess at what is happening across the profile.  "
   ]
  },
  {
   "cell_type": "code",
   "execution_count": 31,
   "metadata": {
    "collapsed": false,
    "scrolled": false
   },
   "outputs": [
    {
     "name": "stdout",
     "output_type": "stream",
     "text": [
      "Calculating between :  wod_016492406O.nc  and :  wod_016492405O.nc\n",
      "Calculating between :  wod_016492405O.nc  and :  wod_016492404O.nc\n",
      "Calculating between :  wod_016492404O.nc  and :  wod_016492403O.nc\n",
      "Calculating between :  wod_016492403O.nc  and :  wod_016492402O.nc\n",
      "Calculating between :  wod_016492402O.nc  and :  wod_016492402O.nc\n",
      "Calculating between :  wod_016492402O.nc  and :  wod_016492401O.nc\n",
      "Calculating between :  wod_016492401O.nc  and :  wod_016492400O.nc\n",
      "Calculating between :  wod_016492400O.nc  and :  wod_016492399O.nc\n",
      "Calculating between :  wod_016492399O.nc  and :  wod_016492398O.nc\n",
      "## == Generating figure == ##\n"
     ]
    },
    {
     "data": {
      "image/png": "[encoded data removed]",
      "text/plain": [
       "<matplotlib.figure.Figure at 0x10f1da5f8>"
      ]
     },
     "metadata": {},
     "output_type": "display_data"
    }
   ],
   "source": [
    "cast_plot_locs, interp_data, bathy_data = calculate_section(profile_arr)\n",
    "\n",
    "plot_profile(cast_plot_locs, interp_data, bathy_data)"
   ]
  }
 ],
 "metadata": {
  "kernelspec": {
   "display_name": "Python 3",
   "language": "python",
   "name": "python3"
  },
  "language_info": {
   "codemirror_mode": {
    "name": "ipython",
    "version": 3
   },
   "file_extension": ".py",
   "mimetype": "text/x-python",
   "name": "python",
   "nbconvert_exporter": "python",
   "pygments_lexer": "ipython3",
   "version": "3.4.4"
  }
 },
 "nbformat": 4,
 "nbformat_minor": 0
}
